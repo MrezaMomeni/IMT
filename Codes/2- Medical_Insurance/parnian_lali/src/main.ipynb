{
 "cells": [
  {
   "cell_type": "code",
   "execution_count": 1,
   "id": "e012c475",
   "metadata": {},
   "outputs": [],
   "source": [
    "from sklearn.model_selection import train_test_split\n",
    "from sklearn.preprocessing import OneHotEncoder\n",
    "from sklearn.feature_selection import VarianceThreshold\n",
    "from sklearn.model_selection import GridSearchCV\n",
    "from sklearn.ensemble import RandomForestRegressor, AdaBoostRegressor\n",
    "from sklearn.metrics import r2_score , mean_absolute_error , mean_squared_error\n",
    "from sklearn.linear_model import LinearRegression\n",
    "import pandas as pd\n",
    "import os"
   ]
  },
  {
   "cell_type": "code",
   "execution_count": 2,
   "id": "b500e419",
   "metadata": {},
   "outputs": [
    {
     "name": "stdout",
     "output_type": "stream",
     "text": [
      "/home/parnian/IMT/parnian_lali/src\n"
     ]
    }
   ],
   "source": [
    "print(os.getcwd())\n",
    "df = pd.read_csv(\"../data/medical_insurance.csv\")"
   ]
  },
  {
   "cell_type": "markdown",
   "id": "907190d5",
   "metadata": {},
   "source": [
    "**Splitting dataset :**"
   ]
  },
  {
   "cell_type": "code",
   "execution_count": 3,
   "id": "ad43e58e",
   "metadata": {},
   "outputs": [],
   "source": [
    "# split data to features and target\n",
    "X = df.drop(['expenses'], axis=1)\n",
    "Y = df['expenses']"
   ]
  },
  {
   "cell_type": "code",
   "execution_count": 4,
   "id": "f21b56a7",
   "metadata": {},
   "outputs": [],
   "source": [
    "# split data to train and test in 80% and 20% proportion\n",
    "X_train, X_test, Y_train, Y_test = train_test_split(X, Y, test_size=0.2, random_state=42)"
   ]
  },
  {
   "cell_type": "markdown",
   "id": "07446349",
   "metadata": {},
   "source": [
    "**Encoding the categorical features :**"
   ]
  },
  {
   "cell_type": "code",
   "execution_count": 5,
   "id": "5a02dafc",
   "metadata": {},
   "outputs": [
    {
     "data": {
      "text/html": [
       "<div>\n",
       "<style scoped>\n",
       "    .dataframe tbody tr th:only-of-type {\n",
       "        vertical-align: middle;\n",
       "    }\n",
       "\n",
       "    .dataframe tbody tr th {\n",
       "        vertical-align: top;\n",
       "    }\n",
       "\n",
       "    .dataframe thead th {\n",
       "        text-align: right;\n",
       "    }\n",
       "</style>\n",
       "<table border=\"1\" class=\"dataframe\">\n",
       "  <thead>\n",
       "    <tr style=\"text-align: right;\">\n",
       "      <th></th>\n",
       "      <th>age</th>\n",
       "      <th>bmi</th>\n",
       "      <th>children</th>\n",
       "      <th>premium</th>\n",
       "      <th>gender_female</th>\n",
       "      <th>gender_male</th>\n",
       "      <th>discount_eligibility_no</th>\n",
       "      <th>discount_eligibility_yes</th>\n",
       "      <th>region_northeast</th>\n",
       "      <th>region_northwest</th>\n",
       "      <th>region_southeast</th>\n",
       "      <th>region_southwest</th>\n",
       "    </tr>\n",
       "  </thead>\n",
       "  <tbody>\n",
       "    <tr>\n",
       "      <th>560</th>\n",
       "      <td>46</td>\n",
       "      <td>20.0</td>\n",
       "      <td>2</td>\n",
       "      <td>183.8768</td>\n",
       "      <td>1.0</td>\n",
       "      <td>0.0</td>\n",
       "      <td>1.0</td>\n",
       "      <td>0.0</td>\n",
       "      <td>0.0</td>\n",
       "      <td>1.0</td>\n",
       "      <td>0.0</td>\n",
       "      <td>0.0</td>\n",
       "    </tr>\n",
       "    <tr>\n",
       "      <th>1285</th>\n",
       "      <td>47</td>\n",
       "      <td>24.3</td>\n",
       "      <td>0</td>\n",
       "      <td>170.6934</td>\n",
       "      <td>1.0</td>\n",
       "      <td>0.0</td>\n",
       "      <td>1.0</td>\n",
       "      <td>0.0</td>\n",
       "      <td>1.0</td>\n",
       "      <td>0.0</td>\n",
       "      <td>0.0</td>\n",
       "      <td>0.0</td>\n",
       "    </tr>\n",
       "    <tr>\n",
       "      <th>1142</th>\n",
       "      <td>52</td>\n",
       "      <td>24.9</td>\n",
       "      <td>0</td>\n",
       "      <td>542.3598</td>\n",
       "      <td>1.0</td>\n",
       "      <td>0.0</td>\n",
       "      <td>1.0</td>\n",
       "      <td>0.0</td>\n",
       "      <td>0.0</td>\n",
       "      <td>0.0</td>\n",
       "      <td>1.0</td>\n",
       "      <td>0.0</td>\n",
       "    </tr>\n",
       "    <tr>\n",
       "      <th>969</th>\n",
       "      <td>39</td>\n",
       "      <td>34.3</td>\n",
       "      <td>5</td>\n",
       "      <td>171.9366</td>\n",
       "      <td>1.0</td>\n",
       "      <td>0.0</td>\n",
       "      <td>1.0</td>\n",
       "      <td>0.0</td>\n",
       "      <td>0.0</td>\n",
       "      <td>0.0</td>\n",
       "      <td>1.0</td>\n",
       "      <td>0.0</td>\n",
       "    </tr>\n",
       "    <tr>\n",
       "      <th>486</th>\n",
       "      <td>54</td>\n",
       "      <td>21.5</td>\n",
       "      <td>3</td>\n",
       "      <td>249.5070</td>\n",
       "      <td>1.0</td>\n",
       "      <td>0.0</td>\n",
       "      <td>1.0</td>\n",
       "      <td>0.0</td>\n",
       "      <td>0.0</td>\n",
       "      <td>1.0</td>\n",
       "      <td>0.0</td>\n",
       "      <td>0.0</td>\n",
       "    </tr>\n",
       "  </tbody>\n",
       "</table>\n",
       "</div>"
      ],
      "text/plain": [
       "      age   bmi  children   premium  gender_female  gender_male  \\\n",
       "560    46  20.0         2  183.8768            1.0          0.0   \n",
       "1285   47  24.3         0  170.6934            1.0          0.0   \n",
       "1142   52  24.9         0  542.3598            1.0          0.0   \n",
       "969    39  34.3         5  171.9366            1.0          0.0   \n",
       "486    54  21.5         3  249.5070            1.0          0.0   \n",
       "\n",
       "      discount_eligibility_no  discount_eligibility_yes  region_northeast  \\\n",
       "560                       1.0                       0.0               0.0   \n",
       "1285                      1.0                       0.0               1.0   \n",
       "1142                      1.0                       0.0               0.0   \n",
       "969                       1.0                       0.0               0.0   \n",
       "486                       1.0                       0.0               0.0   \n",
       "\n",
       "      region_northwest  region_southeast  region_southwest  \n",
       "560                1.0               0.0               0.0  \n",
       "1285               0.0               0.0               0.0  \n",
       "1142               0.0               1.0               0.0  \n",
       "969                0.0               1.0               0.0  \n",
       "486                1.0               0.0               0.0  "
      ]
     },
     "execution_count": 5,
     "metadata": {},
     "output_type": "execute_result"
    }
   ],
   "source": [
    "# encode data with OneHotEncoder\n",
    "categorical_columns = X_train.select_dtypes(include=['object']).columns.tolist()\n",
    "encoder = OneHotEncoder(sparse=False, handle_unknown='ignore')\n",
    "encoder.fit(X_train[categorical_columns])\n",
    "\n",
    "Xtrain_encoded = encoder.transform(X_train[categorical_columns])\n",
    "Xtest_encoded = encoder.transform(X_test[categorical_columns])\n",
    "\n",
    "encoded_columns = encoder.get_feature_names_out(categorical_columns)\n",
    "Xtrain_encoded_df = pd.DataFrame(Xtrain_encoded, columns=encoded_columns, index=X_train.index)\n",
    "Xtest_encoded_df = pd.DataFrame(Xtest_encoded, columns=encoded_columns, index=X_test.index)\n",
    "\n",
    "X_train_encoded = X_train.drop(columns=categorical_columns).join(Xtrain_encoded_df)\n",
    "X_test_encoded = X_test.drop(columns=categorical_columns).join(Xtest_encoded_df)\n",
    "\n",
    "X_train_encoded.head()"
   ]
  },
  {
   "cell_type": "markdown",
   "id": "8000d2af",
   "metadata": {},
   "source": [
    "**Feature selection :**"
   ]
  },
  {
   "cell_type": "code",
   "execution_count": 6,
   "id": "9d97a757",
   "metadata": {},
   "outputs": [],
   "source": [
    "# features with a variance lower than 0.05 will be removed\n",
    "selector = VarianceThreshold(\n",
    "    threshold=0.05\n",
    ")\n",
    "\n",
    "Xtrain_selected = selector.fit_transform(X_train_encoded)\n",
    "Xtest_selected = selector.transform(X_test_encoded)\n",
    "\n",
    "feature_names = X_train_encoded.columns\n",
    "selected_feature_names = feature_names[selector.get_support()]\n",
    "\n",
    "X_train_selected = pd.DataFrame(Xtrain_selected, columns=selected_feature_names, index=X_train_encoded.index)\n",
    "X_test_selected = pd.DataFrame(Xtest_selected, columns=selected_feature_names, index=X_test_encoded.index)"
   ]
  },
  {
   "cell_type": "markdown",
   "id": "cf697460",
   "metadata": {},
   "source": [
    "**Now we are ready to train our data, we analys our data and preprcess it. <br>**\n"
   ]
  },
  {
   "cell_type": "markdown",
   "id": "df263242",
   "metadata": {},
   "source": [
    "*RandomForestRegressor :*"
   ]
  },
  {
   "cell_type": "code",
   "execution_count": 7,
   "id": "88a83cf8",
   "metadata": {},
   "outputs": [
    {
     "name": "stdout",
     "output_type": "stream",
     "text": [
      "r2_score: 0.9942841298767067\n",
      "mae: 197.4652992537306\n",
      "mse: 887381.5987893515\n",
      "rmse: 942.0093411369929\n"
     ]
    }
   ],
   "source": [
    "# train model (RandomForestReg)\n",
    "model_1 = RandomForestRegressor()\n",
    "model_1.fit(X_train_selected, Y_train)\n",
    "Y_1 = model_1.predict(X_test_selected)\n",
    "\n",
    "# evaluate the model\n",
    "print(f'r2_score: {r2_score(Y_test, Y_1)}')\n",
    "print(f'mae: {mean_absolute_error(Y_test, Y_1)}')\n",
    "print(f'mse: {mean_squared_error(Y_test, Y_1)}')\n",
    "print(f\"rmse: {mean_squared_error(Y_test, Y_1) ** 0.5}\")"
   ]
  },
  {
   "cell_type": "markdown",
   "id": "cdd530d0",
   "metadata": {},
   "source": [
    "**Hyperparameter tuning :**"
   ]
  },
  {
   "cell_type": "code",
   "execution_count": 8,
   "id": "c6ec1317",
   "metadata": {},
   "outputs": [],
   "source": [
    "param_grid = {\n",
    "    'n_estimators': [50, 100, 200],\n",
    "    'max_depth': [None, 10, 20],\n",
    "    'min_samples_split': [2, 5],\n",
    "    'min_samples_leaf': [1, 2]\n",
    "}\n"
   ]
  },
  {
   "cell_type": "code",
   "execution_count": 9,
   "id": "328b8029",
   "metadata": {},
   "outputs": [],
   "source": [
    "rf = RandomForestRegressor(random_state=42)\n",
    "grid_search_1 = GridSearchCV(\n",
    "    estimator=rf,\n",
    "    param_grid=param_grid,\n",
    "    cv=5,\n",
    "    scoring='neg_mean_squared_error',\n",
    "    n_jobs=-1,\n",
    "    verbose=2\n",
    ")\n"
   ]
  },
  {
   "cell_type": "code",
   "execution_count": 10,
   "id": "4e397dac",
   "metadata": {},
   "outputs": [
    {
     "name": "stdout",
     "output_type": "stream",
     "text": [
      "Fitting 5 folds for each of 36 candidates, totalling 180 fits\n"
     ]
    }
   ],
   "source": [
    "grid_search_1.fit(X_train_selected, Y_train)\n",
    "best_model = grid_search_1.best_estimator_\n"
   ]
  },
  {
   "cell_type": "code",
   "execution_count": 11,
   "id": "ea94cd94",
   "metadata": {},
   "outputs": [
    {
     "name": "stdout",
     "output_type": "stream",
     "text": [
      "r2_score: 0.9935937648354657\n",
      "mae: 194.46307733824375\n",
      "mse: 994559.8972514189\n",
      "rmse: 997.2762391892323\n"
     ]
    }
   ],
   "source": [
    "Y_1_tuned = best_model.predict(X_test_selected)\n",
    "\n",
    "# evaluate the model\n",
    "print(f'r2_score: {r2_score(Y_test, Y_1_tuned)}')\n",
    "print(f'mae: {mean_absolute_error(Y_test, Y_1_tuned)}')\n",
    "print(f'mse: {mean_squared_error(Y_test, Y_1_tuned)}')\n",
    "print(f\"rmse: {mean_squared_error(Y_test, Y_1_tuned) ** 0.5}\")"
   ]
  },
  {
   "cell_type": "markdown",
   "id": "af3c2851",
   "metadata": {},
   "source": [
    "*LinearRegression :*"
   ]
  },
  {
   "cell_type": "code",
   "execution_count": 12,
   "id": "3492e9a4",
   "metadata": {},
   "outputs": [
    {
     "name": "stdout",
     "output_type": "stream",
     "text": [
      "r2_score: 0.870840659805395\n",
      "mae: 3137.32560815503\n",
      "mse: 20051824.01422882\n",
      "rmse: 4477.926307369162\n"
     ]
    }
   ],
   "source": [
    "model_2 = LinearRegression()\n",
    "model_2.fit(X_train_selected, Y_train)\n",
    "Y_2 = model_2.predict(X_test_selected)\n",
    "\n",
    "# evaluate the model\n",
    "print(f'r2_score: {r2_score(Y_test, Y_2)}')\n",
    "print(f'mae: {mean_absolute_error(Y_test, Y_2)}')\n",
    "print(f'mse: {mean_squared_error(Y_test, Y_2)}')\n",
    "print(f\"rmse: {mean_squared_error(Y_test, Y_2) ** 0.5}\")"
   ]
  },
  {
   "cell_type": "markdown",
   "id": "d563b478",
   "metadata": {},
   "source": [
    "*AdaBoostRegressor :*"
   ]
  },
  {
   "cell_type": "code",
   "execution_count": 13,
   "id": "d4eec4e2",
   "metadata": {},
   "outputs": [
    {
     "name": "stdout",
     "output_type": "stream",
     "text": [
      "r2_score: 0.9332734269410219\n",
      "mae: 2716.280446343287\n",
      "mse: 10359215.973349333\n",
      "rmse: 3218.5735929677503\n"
     ]
    }
   ],
   "source": [
    "model_3 = AdaBoostRegressor()\n",
    "model_3.fit(X_train_selected, Y_train)\n",
    "Y_3 = model_3.predict(X_test_selected)\n",
    "\n",
    "# evaluate the model\n",
    "print(f'r2_score: {r2_score(Y_test, Y_3)}')\n",
    "print(f'mae: {mean_absolute_error(Y_test, Y_3)}')\n",
    "print(f'mse: {mean_squared_error(Y_test, Y_3)}')\n",
    "print(f\"rmse: {mean_squared_error(Y_test, Y_3) ** 0.5}\")"
   ]
  },
  {
   "cell_type": "markdown",
   "id": "952ab656",
   "metadata": {},
   "source": [
    "*Hyperparameter tuning :*"
   ]
  },
  {
   "cell_type": "code",
   "execution_count": 14,
   "id": "63a4b7d5",
   "metadata": {},
   "outputs": [],
   "source": [
    "param_grid_2 = {\n",
    "    'n_estimators': [50, 100, 200],\n",
    "    'learning_rate': [0.01, 0.1, 1.0]\n",
    "}"
   ]
  },
  {
   "cell_type": "code",
   "execution_count": 15,
   "id": "9bac3611",
   "metadata": {},
   "outputs": [
    {
     "name": "stdout",
     "output_type": "stream",
     "text": [
      "Fitting 5 folds for each of 9 candidates, totalling 45 fits\n"
     ]
    },
    {
     "data": {
      "text/html": [
       "<style>#sk-container-id-1 {color: black;background-color: white;}#sk-container-id-1 pre{padding: 0;}#sk-container-id-1 div.sk-toggleable {background-color: white;}#sk-container-id-1 label.sk-toggleable__label {cursor: pointer;display: block;width: 100%;margin-bottom: 0;padding: 0.3em;box-sizing: border-box;text-align: center;}#sk-container-id-1 label.sk-toggleable__label-arrow:before {content: \"▸\";float: left;margin-right: 0.25em;color: #696969;}#sk-container-id-1 label.sk-toggleable__label-arrow:hover:before {color: black;}#sk-container-id-1 div.sk-estimator:hover label.sk-toggleable__label-arrow:before {color: black;}#sk-container-id-1 div.sk-toggleable__content {max-height: 0;max-width: 0;overflow: hidden;text-align: left;background-color: #f0f8ff;}#sk-container-id-1 div.sk-toggleable__content pre {margin: 0.2em;color: black;border-radius: 0.25em;background-color: #f0f8ff;}#sk-container-id-1 input.sk-toggleable__control:checked~div.sk-toggleable__content {max-height: 200px;max-width: 100%;overflow: auto;}#sk-container-id-1 input.sk-toggleable__control:checked~label.sk-toggleable__label-arrow:before {content: \"▾\";}#sk-container-id-1 div.sk-estimator input.sk-toggleable__control:checked~label.sk-toggleable__label {background-color: #d4ebff;}#sk-container-id-1 div.sk-label input.sk-toggleable__control:checked~label.sk-toggleable__label {background-color: #d4ebff;}#sk-container-id-1 input.sk-hidden--visually {border: 0;clip: rect(1px 1px 1px 1px);clip: rect(1px, 1px, 1px, 1px);height: 1px;margin: -1px;overflow: hidden;padding: 0;position: absolute;width: 1px;}#sk-container-id-1 div.sk-estimator {font-family: monospace;background-color: #f0f8ff;border: 1px dotted black;border-radius: 0.25em;box-sizing: border-box;margin-bottom: 0.5em;}#sk-container-id-1 div.sk-estimator:hover {background-color: #d4ebff;}#sk-container-id-1 div.sk-parallel-item::after {content: \"\";width: 100%;border-bottom: 1px solid gray;flex-grow: 1;}#sk-container-id-1 div.sk-label:hover label.sk-toggleable__label {background-color: #d4ebff;}#sk-container-id-1 div.sk-serial::before {content: \"\";position: absolute;border-left: 1px solid gray;box-sizing: border-box;top: 0;bottom: 0;left: 50%;z-index: 0;}#sk-container-id-1 div.sk-serial {display: flex;flex-direction: column;align-items: center;background-color: white;padding-right: 0.2em;padding-left: 0.2em;position: relative;}#sk-container-id-1 div.sk-item {position: relative;z-index: 1;}#sk-container-id-1 div.sk-parallel {display: flex;align-items: stretch;justify-content: center;background-color: white;position: relative;}#sk-container-id-1 div.sk-item::before, #sk-container-id-1 div.sk-parallel-item::before {content: \"\";position: absolute;border-left: 1px solid gray;box-sizing: border-box;top: 0;bottom: 0;left: 50%;z-index: -1;}#sk-container-id-1 div.sk-parallel-item {display: flex;flex-direction: column;z-index: 1;position: relative;background-color: white;}#sk-container-id-1 div.sk-parallel-item:first-child::after {align-self: flex-end;width: 50%;}#sk-container-id-1 div.sk-parallel-item:last-child::after {align-self: flex-start;width: 50%;}#sk-container-id-1 div.sk-parallel-item:only-child::after {width: 0;}#sk-container-id-1 div.sk-dashed-wrapped {border: 1px dashed gray;margin: 0 0.4em 0.5em 0.4em;box-sizing: border-box;padding-bottom: 0.4em;background-color: white;}#sk-container-id-1 div.sk-label label {font-family: monospace;font-weight: bold;display: inline-block;line-height: 1.2em;}#sk-container-id-1 div.sk-label-container {text-align: center;}#sk-container-id-1 div.sk-container {/* jupyter's `normalize.less` sets `[hidden] { display: none; }` but bootstrap.min.css set `[hidden] { display: none !important; }` so we also need the `!important` here to be able to override the default hidden behavior on the sphinx rendered scikit-learn.org. See: https://github.com/scikit-learn/scikit-learn/issues/21755 */display: inline-block !important;position: relative;}#sk-container-id-1 div.sk-text-repr-fallback {display: none;}</style><div id=\"sk-container-id-1\" class=\"sk-top-container\"><div class=\"sk-text-repr-fallback\"><pre>GridSearchCV(cv=5, estimator=AdaBoostRegressor(random_state=42), n_jobs=-1,\n",
       "             param_grid={&#x27;learning_rate&#x27;: [0.01, 0.1, 1.0],\n",
       "                         &#x27;n_estimators&#x27;: [50, 100, 200]},\n",
       "             scoring=&#x27;neg_mean_squared_error&#x27;, verbose=2)</pre><b>In a Jupyter environment, please rerun this cell to show the HTML representation or trust the notebook. <br />On GitHub, the HTML representation is unable to render, please try loading this page with nbviewer.org.</b></div><div class=\"sk-container\" hidden><div class=\"sk-item sk-dashed-wrapped\"><div class=\"sk-label-container\"><div class=\"sk-label sk-toggleable\"><input class=\"sk-toggleable__control sk-hidden--visually\" id=\"sk-estimator-id-1\" type=\"checkbox\" ><label for=\"sk-estimator-id-1\" class=\"sk-toggleable__label sk-toggleable__label-arrow\">GridSearchCV</label><div class=\"sk-toggleable__content\"><pre>GridSearchCV(cv=5, estimator=AdaBoostRegressor(random_state=42), n_jobs=-1,\n",
       "             param_grid={&#x27;learning_rate&#x27;: [0.01, 0.1, 1.0],\n",
       "                         &#x27;n_estimators&#x27;: [50, 100, 200]},\n",
       "             scoring=&#x27;neg_mean_squared_error&#x27;, verbose=2)</pre></div></div></div><div class=\"sk-parallel\"><div class=\"sk-parallel-item\"><div class=\"sk-item\"><div class=\"sk-label-container\"><div class=\"sk-label sk-toggleable\"><input class=\"sk-toggleable__control sk-hidden--visually\" id=\"sk-estimator-id-2\" type=\"checkbox\" ><label for=\"sk-estimator-id-2\" class=\"sk-toggleable__label sk-toggleable__label-arrow\">estimator: AdaBoostRegressor</label><div class=\"sk-toggleable__content\"><pre>AdaBoostRegressor(random_state=42)</pre></div></div></div><div class=\"sk-serial\"><div class=\"sk-item\"><div class=\"sk-estimator sk-toggleable\"><input class=\"sk-toggleable__control sk-hidden--visually\" id=\"sk-estimator-id-3\" type=\"checkbox\" ><label for=\"sk-estimator-id-3\" class=\"sk-toggleable__label sk-toggleable__label-arrow\">AdaBoostRegressor</label><div class=\"sk-toggleable__content\"><pre>AdaBoostRegressor(random_state=42)</pre></div></div></div></div></div></div></div></div></div></div>"
      ],
      "text/plain": [
       "GridSearchCV(cv=5, estimator=AdaBoostRegressor(random_state=42), n_jobs=-1,\n",
       "             param_grid={'learning_rate': [0.01, 0.1, 1.0],\n",
       "                         'n_estimators': [50, 100, 200]},\n",
       "             scoring='neg_mean_squared_error', verbose=2)"
      ]
     },
     "execution_count": 15,
     "metadata": {},
     "output_type": "execute_result"
    }
   ],
   "source": [
    "ada = AdaBoostRegressor(random_state=42)\n",
    "\n",
    "grid_search_2 = GridSearchCV(\n",
    "    estimator=ada,\n",
    "    param_grid=param_grid_2,\n",
    "    cv=5,\n",
    "    scoring='neg_mean_squared_error',\n",
    "    n_jobs=-1,\n",
    "    verbose=2\n",
    ")\n",
    "grid_search_2.fit(X_train_selected, Y_train)\n"
   ]
  },
  {
   "cell_type": "code",
   "execution_count": 16,
   "id": "bb89ca10",
   "metadata": {},
   "outputs": [
    {
     "name": "stdout",
     "output_type": "stream",
     "text": [
      "r2_score: 0.9568988461146923\n",
      "mae: 1780.32626320872\n",
      "mse: 6691399.5628671115\n",
      "rmse: 2586.773968259908\n"
     ]
    }
   ],
   "source": [
    "best_ada = grid_search_2.best_estimator_\n",
    "Y_3_tuned = best_ada.predict(X_test_selected)\n",
    "\n",
    "# evaluate the model\n",
    "print(f'r2_score: {r2_score(Y_test, Y_3_tuned)}')\n",
    "print(f'mae: {mean_absolute_error(Y_test, Y_3_tuned)}')\n",
    "print(f'mse: {mean_squared_error(Y_test, Y_3_tuned)}')\n",
    "print(f\"rmse: {mean_squared_error(Y_test, Y_3_tuned) ** 0.5}\")\n"
   ]
  },
  {
   "cell_type": "markdown",
   "id": "f581498d",
   "metadata": {},
   "source": [
    "**Final analys**"
   ]
  },
  {
   "cell_type": "markdown",
   "id": "a8d4cd26",
   "metadata": {},
   "source": [
    "RandomForestRegressor without Hyperparameter tuning with an R² ≈ 0.994 and RMSE ≈ 942 was the best model.\n",
    "\n",
    "*Tuning Gains:*\n",
    "\n",
    "Helped a lot in AdaBoostRegressor.\n",
    "\n",
    " but Barely helped (and even slightly hurt) RandomForestRegressor."
   ]
  }
 ],
 "metadata": {
  "kernelspec": {
   "display_name": "machine",
   "language": "python",
   "name": "python3"
  },
  "language_info": {
   "codemirror_mode": {
    "name": "ipython",
    "version": 3
   },
   "file_extension": ".py",
   "mimetype": "text/x-python",
   "name": "python",
   "nbconvert_exporter": "python",
   "pygments_lexer": "ipython3",
   "version": "3.8.17"
  }
 },
 "nbformat": 4,
 "nbformat_minor": 5
}
